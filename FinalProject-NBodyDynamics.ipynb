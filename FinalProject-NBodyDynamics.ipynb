{
 "cells": [
  {
   "cell_type": "markdown",
   "metadata": {
    "slideshow": {
     "slide_type": "slide"
    }
   },
   "source": [
    "# Final Project Logistics\n",
    "\n",
    "**Final Project Questions** (5%)\n",
    "\n",
    "Closely read the description of the final project below from start to finish. Write down three questions or areas of concern you identify about the project. Submit these on Canvas, either as simple plain text or in a jupyter notebook (if your questions involve specific code mysteries) converted to an HTML file as you do for tutorials and homework by ***Sunday, July 21 at 11:59pm***. For now you can ignore any questions you may have about more advanced visualizations (including 3D plots and movies). We will cover these in Lectures 21-23."
   ]
  },
  {
   "cell_type": "markdown",
   "metadata": {
    "slideshow": {
     "slide_type": "slide"
    }
   },
   "source": [
    "**Final Project Draft** (15%) \n",
    "\n",
    "The revision process is an extremely important part of coding. To encourage you to revise and improve your code, 8% of the grade for this assignment will be awarded for submitting a draft version of your project on Canvas by ***Sunday, August 4 at 11:59pm***. To earn full credit, this draft *does not* need to be complete or polished. It merely needs to demonstrate serious effort has been made. If you don't have code written for some section, you *must* briefly write out (in human words) your plan for how to approach it, some pseudo-code, some question you would like answered about it, or where you are stuck. I will provide feedback/assistance within a couple of days, if appropriate. As long as you have `embed=True` in any video display commands in your notebook, you can turn in JUST your notebook HTML file for your project draft.\n",
    "\n",
    "***Note: It is not possible to get >80% on the Final Project if you do not turn in the Final Project Questions by Sunday, July 21 at 11:59pm and a Final Project Draft by Sunday, August 4 at 11:59pm.***"
   ]
  },
  {
   "cell_type": "markdown",
   "metadata": {
    "slideshow": {
     "slide_type": "slide"
    }
   },
   "source": [
    "# Introducing the Final Project (80%)\n",
    "\n",
    "Your task is to write a gravitational $N$-body code: a program that evolves a system of $N$ particles over time, accounting for their mutual gravitational forces. Starting from initial arrays of particle masses, positions, and velocities, your code will need to step through many time points and calculate the instaneous accelerations, velocities, and positions of the particles at these times. At each time, your code must calculate the vector forces among all $N$ particles, use those forces to determine the instantaneous accelerations, update both the velocities and positions of the particles, store those values, and then repeat this process over and over again for every time point. This may sound daunting, but don't worry!  You will be given a module to do the physics for you and you can break the rest down into smaller steps.\n",
    "\n",
    "This project is designed to synthesize many of the topics we have covered in class. For the project, you will use variables, functions, loops, arrays, file input/output, plotting, and more. You will need to tie multiple concepts together to get through it: a good strategy throughout is to make sure you are *very* clear on what each aspect of the code should do, and test each component to make sure they work in isolation, before linking them all together.\n",
    "\n",
    "Some parts of the project build off of earlier ones, but some can be completed in isolation. If you get stuck on one part, keep going; you may be able to finish later parts of the project. As with other assignments, you should feel free to discuss with other students, but you must turn in your own work.\n",
    "\n",
    "To access the provided python modules, you will either need to (*Anaconda folks:*) download them and place them in your working directory (or in your `$PYTHONPATH`) or (*JupyterHub folks:*) add the appropriate directory to your path as done in previous tutorials and homeworks."
   ]
  },
  {
   "cell_type": "markdown",
   "metadata": {
    "slideshow": {
     "slide_type": "slide"
    }
   },
   "source": [
    "# N-body Dynamics:  Background and Definitions\n",
    "\n",
    "\n",
    "Previously, you wrote code to calculate the net gravitational force on particle $i$ due to all other particles in a system of $N$ total particles. This net force was a sum of many individual force vectors\n",
    "$$\n",
    "    \\vec{F}_i = \\sum_{i \\neq j} \\vec{F}_{ij}\n",
    "$$    \n",
    "where $\\vec{F}_{ij}$ represents the individual force of particle $j$ acting on particle $i$. As outlined below, in this project you will combine your force calculation capabilities with equations of motion, to calculate the trajectories of multiple particles all acting under each others' gravity.\n",
    "\n",
    "Let's express the position of particle $i$ at time $t$ as a position vector $\\vec{r}_i(t) = (x_{i}, y_{i}, z_{i})$, the velocity vector of this particle as $\\vec{v}_i(t)$, and the acceleration vector of this particle as $\\vec{a}_i(t)$. \n",
    "\n",
    "Mathematically, we can determine these time-dependent vectors for the particle by solving the following equations\n",
    "\n",
    "\\begin{eqnarray}\n",
    "\\vec{r}_i(t) &=& \\vec{r}_i(t_0) + \\int_{t_0}^t \\vec{v}_i(t') dt'  \\\\\n",
    "\\vec{v}_i(t) &=& \\vec{v}_i(t_0) + \\int_{t_0}^t \\vec{a}_i(t') dt'  \\\\\n",
    "\\vec{a}_i(t) &=& {\\vec{F}_{i}(t) \\over m_i }\n",
    "\\end{eqnarray}\n",
    "\n",
    "\n",
    "where $\\vec{F}_{i}(t)$ is the force vector acting on the particle at time $t$, which is calculated from the positions and masses of all of the other particles. In some cases we could solve this system of equations analytically, but that won't be the case in general.\n",
    "\n",
    "Numerically, we can approximate these integrals by breaking them up into discrete time steps. If we make these steps small enough, then we should get a fairly accurate approximation to how positions and velocities change with time. We can use a common numerical integration method called the \"leapfrog\" integrator to update positions and velocities from time $t$ to a time $\\Delta t$ later, provided $\\Delta t$ is small enough:\n",
    "\n",
    "\\begin{eqnarray}\n",
    "\\vec{r}_i(t + \\Delta t) &=& \\vec{r}_i(t) + \\vec{v}_i(t) \\Delta t + \\frac{1}{2} \\vec{a}_i(t) \\Delta t^2\\\\\n",
    "\\vec{v}_i(t + \\Delta t) &=& \\vec{v}_i(t) + \\frac{1}{2}\\left[\\vec{a}_i(t) + \\vec{a}_i(t + \\Delta t)\\right] \\Delta t\\\\\n",
    "\\vec{a}_i(t + \\Delta t) &=& {\\vec{F}_{i}(t + \\Delta t) \\over m_i }\n",
    "\\end{eqnarray}\n",
    "\n",
    "This leapfrog integrator is famous for being a good balance between accuracy and complexity. In this project, I will provide you with a Python function called `updateParticles` that encodes a single step of this leapfrog integration. Your job will be to link multiple steps together and to calculate, store, and visualize the $(x, y, z)$ trajectories of multiple particles over a long time span.\n",
    "\n",
    "***(Bonus:)*** If you would like to implement a higher-order integration method, you absolutely can! But please first come talk to me about what options exist and what alternative integration methods would be best for (and would fit the scope of) this project."
   ]
  },
  {
   "cell_type": "markdown",
   "metadata": {
    "slideshow": {
     "slide_type": "slide"
    }
   },
   "source": [
    "# Make a new notebook\n",
    "\n",
    "Create a new jupyter notebook and edit its name from \"Untitled\" to \"FinalProject_{identikey}\"."
   ]
  },
  {
   "cell_type": "markdown",
   "metadata": {
    "slideshow": {
     "slide_type": "slide"
    }
   },
   "source": [
    "# Write Calculation Tools"
   ]
  },
  {
   "cell_type": "markdown",
   "metadata": {},
   "source": [
    "**|1|** (2%) \n",
    "Make sure you have access to a function that calculates net force vectors from a list of masses and a list of positions. You wrote such a function in Homework D. Feel free to use either you own version or `forces.py` on Canvas. You can either import the necessary functions from `forces.py` or cut and paste the code into your notebook. Test this function in a situation where you know the answer. Explain what you expect the output to be and why. The net force vectors can either be a list of 3-element `numpy` arrays (one force vector for each mass) or a 2D numpy array.  \n",
    "\n",
    "---\n",
    "\n",
    "**|2|** (3%) \n",
    "Code snippets relevant for this project are stored in Canvas. Import the `updateParticles` function from `leapfrog.py` into your `jupyter` notebook. Display the docstring for `updateParticles` so you know how it is called. When called, this function executes one time step of the leapfrog integrator. `updateParticles` imports and calls a function called `calculateForceVectors` to determine the net forces on the particles; you may need to modify this to link it with your force calculation function (and all of the other functions it may depend on) if you're not using the previously referenced `forces.py`. Test this function in a situation where you know the answer. Explain what you expect the output to be and why.\n",
    "\n",
    "---\n",
    "\n",
    "**|3|** (20%) \n",
    "Write a function called `calculateTrajectories` whose purpose is to evolve particle initial positions and initial velocities in time. It should start from initial positions and velocities, take a step forward in time, calculate new positions and velocities, store these new values in lists or arrays, and then repeat that process over and over again. Inside this loop, your function should call the `updateParticles` function whenever you want to advance the positions and velocities by a time step. Be *sure* you are very clear on how to call `updateParticles` from the previous step! Your function ***must*** contain a detailed docstring.\n",
    "\n",
    "- The outputs (return values) of the function *must* be:\n",
    "    - times (1D array, with elements identifying each time step)\n",
    "    - positions at all times (multi-dimensional array or arrays)\n",
    "    - velocities at all times (multi-dimensional array or arrays)\n",
    "\n",
    "Your returned times, positions, and velocities arrays should all contain your initial time (t=0), positions, and velocities as well.\n",
    "\n",
    "The following describes one possible way that your `calculateTrajectories` function could work. Here, `n_particles` is the number of particles, `n_dimensions=3` is the number of spatial dimensions ($x$, $y$, $z$), and `n_times` is the number of different time points where you calculate positions and velocities.\n",
    "\n",
    "- The inputs to this function could be:\n",
    "    - masses (1D array, with `n_particles` elements)\n",
    "    - initial positions (2D array, `n_particles` $\\times$ `n_dimensions` elements)\n",
    "    - initial velocities (2D array, `n_particles` $\\times$ `n_dimensions` elements)\n",
    "    - the total time to evolve the system (a float, in seconds)\n",
    "    - the size of each time step, (a float, in seconds)\n",
    "\n",
    "- The outputs (return values) of the function could be:\n",
    "    - times (1D array, with `n_times` elements)\n",
    "    - positions at all times (3D array, `n_times` $\\times$ `n_particles` $\\times$ `n_dimensions`)\n",
    "    - velocities at all times (3D array, `n_times` $\\times$ `n_particles` $\\times$ `n_dimensions`)\n",
    "        \n",
    "This structure is provided to try to help you keep things tidy, but feel free to organize your code differently. For example, if you prefer, you could store $x$, $y$, $z$, $v_x$, $v_y$, $v_z$ as separate 2D arrays (with shape of `n_times` $\\times$ `n_particles` ) instead of using the 3D arrays above. Additionally the axes of your arrays may have a  slightly different ordering depending on how you create them (e.g. `n_times` $\\times$ `n_particles` $\\times$ `n_dimensions` vs. `n_particles` $\\times$ `n_dimensions` $\\times$ `n_times`).\n",
    "\n",
    "If you get confused about how to access portions of your arrays, have a look at their shapes. Be sure you are clear on which axes represent which attributes (Time vs Particle # vs Physical Dimension)."
   ]
  },
  {
   "cell_type": "markdown",
   "metadata": {},
   "source": [
    "# Earth in (circular) orbit around the Sun"
   ]
  },
  {
   "cell_type": "markdown",
   "metadata": {},
   "source": [
    "**|4|** (10%) \n",
    "Test your code with the following 2-body problem, which approximates the Earth in a circular orbit around the Sun.\n",
    "\n",
    "| particle # | mass (kg)            | $x$ (AU) | $y$ (AU) | $z$ (AU) | $v_x$ (m/s) | $v_y$ (m/s) | $v_z$  (m/s) |\n",
    "|----------|----------------------|----------|----------|----------|-------------|-------------|--------------|\n",
    "| 0        | 1.989e30 | -3e-6   |  0.0      | 0.0     | 0.0           | -8.94e-2  | 0.0 |\n",
    "| 1        | 5.972e24 |0.999997 | 0.0      | 0.0      | 0.0           |  2.98e4   | 0.0|\n",
    "\n",
    "\n",
    "Evolve this system for a total time of 1000 days, using time-steps of $\\Delta t$ = 0.1 days. Be careful with units!  Your `calculateTrajectories` code uses SI units.\n",
    "\n",
    "---\n",
    "\n",
    "**|5|** (10%) \n",
    "Make three plots summarizing the results\n",
    "\n",
    "+ One plot should have time on the horizontal axis, and show the $x$ positions of both particles on the vertical axis. Estimate the period of orbit by eye; does this make sense?\n",
    "+ One plot should show the trajectories that the particles trace out in the $x$-$y$ plane. *The Earth's orbit should be pretty close to a perfect circle. Scale the axes so it appears this way.*\n",
    "+ One plot should show the $x$ velocity of the Sun as a function of time. Based on this plot, to what precision would we need to measure the radial velocity of a Sun-like star to see an Earth-like planet orbiting it? *(Estimate this by eye.)*\n",
    "\n",
    "For all positions and times, convert back to AU and days for the above plots.\n",
    "\n",
    "---\n",
    "\n",
    "**|6|** (5%) Repeat the Earth-Sun calculation and plots, starting from the same initial conditions but *(with python)* decreasing the initial velocities by a factor of 2. How does the orbit change?"
   ]
  },
  {
   "cell_type": "markdown",
   "metadata": {},
   "source": [
    "# The Circumbinary Exoplanet Kepler-16ABb:"
   ]
  },
  {
   "cell_type": "markdown",
   "metadata": {},
   "source": [
    "**|7|** (5%) \n",
    "Read in the initial conditions describing the Kepler-16ABb circumbinary planet system (two stars & one planet), stored in the file `kepler16.txt` on Canvas under Text Files. The file contains 7 columns: one for masses, three for positions, and three for velocities. Read in the data file and organize these initial conditions into arrays that could be fed as inputs to your `calculateTrajectories` function. \n",
    "\n",
    "\n",
    "The data stored in this file, for three particles, should look like this:\n",
    "\n",
    "| mass (kg)|     $x$ (m)|     $y$ (m)|      $z$ (m)|  $v_x$ (m/s)|  $v_y$ (m/s)|  $v_z$ (m/s)|\n",
    "|----------|------------|------------|-------------|-------------|-------------|-------------|\n",
    "| 1.372e+30| 7.635e+09  |-9.659e+05  | 1.845e+09   | -1.05e+03   |    -6.822   | 1.303e+04   |\n",
    "| 4.029e+29|  -2.6e+10  | 3.289e+06  |-6.281e+09   | 3.576e+03   |     23.23   |-4.437e+04   |\n",
    "| 6.325e+26| 3.776e+10  |-4.092e+07  | 8.193e+10   | -3.63e+04   |    -10.81   | 1.702e+04   |\n",
    "\n",
    "\n",
    "*Note you have 3 particles and 3 dimensions. Don't mix up how they are each stored in your arrays!*\n",
    "\n",
    "---\n",
    "\n",
    "**|8|** (5%) \n",
    "Plot the initial positions of these particles in the $x$-$z$ plane (in AU units). Scale the symbol area to be proportional to the particle masses. To each point, add a vector signifying the initial velocity of that point. Make your code flexible enough that it doesn't depend on the fact that there are 3 objects. *i.e. No hard-coding!*\n",
    "\n",
    "---\n",
    "\n",
    "**|9|** (5%) \n",
    "Use your N-body code to calculate the planet and stars' orbits. Evolve the system for a total of 500 days, using a time step of $\\Delta t$ = 0.5 days.\n",
    "\n",
    "---\n",
    "\n",
    "**|10|** (15%) \n",
    "Make an animation, showing the motion of the three particles over that 500-day period. From frame to frame in this movie, the positions of the particles should move, and the title of the plot should update to reflect the passage of time. Units for the plot should be in AU and days."
   ]
  },
  {
   "cell_type": "markdown",
   "metadata": {},
   "source": [
    "# Choose Your Own Adventure (Up to 10% EXTRA CREDIT) \n",
    "- *You may not receive more than 100% on the final project but doing so will be accounted for towards final grade calculations (especially if you are on the edge of a grade cutoff)*"
   ]
  },
  {
   "cell_type": "markdown",
   "metadata": {},
   "source": [
    "**|11|** (3%) \n",
    "The folder `initialConditions/` on Canvas contains additional sets of initial conditions in .txt file form. Alternatively, there is a Python function (in `systems.py` in the same folder) that can be used to generate your own initial conditions according to some customizable parameters.\n",
    "\n",
    "- Choose a set of initial conditions from among these options\n",
    "- Read in the appropriate data file (or make your own)\n",
    "- Then, calculate their trajectories\n",
    "\n",
    "You might need to experiment with the step size and length of time you evolve over to see how the system behaves. After you start working on the Final Project, I will post a few details about some of the datasets in a Canvas announcement. Be sure you check in to see if any specific hints pertain to the dataset you chose.\n",
    "\n",
    "---\n",
    "\n",
    "**|12|** (7%)\n",
    "Visualize your four-dimensional $(x, y, z, t)$ results in some manner that captures *all four dimensions*. For example, this could be:\n",
    "\n",
    "- A 3D movie\n",
    "- Separate panels plotting $(x, y, z)$ positions as a function of time\n",
    "- Different projections of the trajectories with arrows or color gradients expressing time\n",
    "- A movie in two or three panels\n",
    "- A 3D movie for stereoscopic red-blue glasses *(I have no idea how to do this last one but it sounds cool!)*\n",
    "- Or any other representation you can think of"
   ]
  },
  {
   "cell_type": "markdown",
   "metadata": {},
   "source": [
    "# Turn in your Final Project\n",
    "\n",
    "When submitting your Final Project code, please submit any imported .py or .txt files (other than those provided), any animations/images not included in your ipynb/html file, and your main .ipynb file converted to HTML (in the same manner as tutorials and homework). It should have a name like `FinalProject_{identikey}.html` (replacing {identikey} with your personal identikey). Please upload the main HTML file *FIRST* since that is what will show first in the Canvas grading program."
   ]
  }
 ],
 "metadata": {
  "anaconda-cloud": {},
  "kernelspec": {
   "display_name": "Python 3 (ipykernel)",
   "language": "python",
   "name": "python3"
  },
  "language_info": {
   "codemirror_mode": {
    "name": "ipython",
    "version": 3
   },
   "file_extension": ".py",
   "mimetype": "text/x-python",
   "name": "python",
   "nbconvert_exporter": "python",
   "pygments_lexer": "ipython3",
   "version": "3.11.9"
  },
  "latex_metadata": {
   "date": "***Due BEFORE class on the last day of class: Thursday, May 2.***"
  }
 },
 "nbformat": 4,
 "nbformat_minor": 1
}
